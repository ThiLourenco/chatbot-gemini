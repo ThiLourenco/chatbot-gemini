{
  "nbformat": 4,
  "nbformat_minor": 0,
  "metadata": {
    "colab": {
      "provenance": [],
      "authorship_tag": "ABX9TyNKBQuP7C0NyTe2Vf+J1rvG",
      "include_colab_link": true
    },
    "kernelspec": {
      "name": "python3",
      "display_name": "Python 3"
    },
    "language_info": {
      "name": "python"
    }
  },
  "cells": [
    {
      "cell_type": "markdown",
      "metadata": {
        "id": "view-in-github",
        "colab_type": "text"
      },
      "source": [
        "<a href=\"https://colab.research.google.com/github/ThiLourenco/chatbot-gemini/blob/main/%5BImers%C3%A3o_IA_2%C2%AA_edi%C3%A7%C3%A3o%5D_C%C3%B3digo_Aula_04.ipynb\" target=\"_parent\"><img src=\"https://colab.research.google.com/assets/colab-badge.svg\" alt=\"Open In Colab\"/></a>"
      ]
    },
    {
      "cell_type": "markdown",
      "source": [
        "Instalando O SDK do Google\n"
      ],
      "metadata": {
        "id": "ElwNRllAJS_1"
      }
    },
    {
      "cell_type": "code",
      "execution_count": 1,
      "metadata": {
        "id": "nB-vZIdAIpnY"
      },
      "outputs": [],
      "source": [
        "!pip install -q -U google-generativeai"
      ]
    },
    {
      "cell_type": "code",
      "source": [
        "import google.generativeai as genai\n",
        "from google.colab import userdata\n",
        "api_key = userdata.get('SECRET_KEY')\n",
        "genai.configure(api_key=api_key)\n"
      ],
      "metadata": {
        "id": "CxERggUVIrX9"
      },
      "execution_count": 11,
      "outputs": []
    },
    {
      "cell_type": "code",
      "source": [],
      "metadata": {
        "id": "NKdXlwuWdDFB"
      },
      "execution_count": null,
      "outputs": []
    },
    {
      "cell_type": "markdown",
      "source": [
        "Listar os modelos disponíveis"
      ],
      "metadata": {
        "id": "BvSp5mF1JcYe"
      }
    },
    {
      "cell_type": "code",
      "source": [
        "for m in genai.list_models():\n",
        "  if 'generateContent' in m.supported_generation_methods:\n",
        "    print(m.name)"
      ],
      "metadata": {
        "colab": {
          "base_uri": "https://localhost:8080/",
          "height": 139
        },
        "id": "qD8HE7XyJZnZ",
        "outputId": "c6ecd435-4acf-417d-dbf4-fc0a03ff9d58"
      },
      "execution_count": 3,
      "outputs": [
        {
          "output_type": "stream",
          "name": "stdout",
          "text": [
            "models/gemini-1.0-pro\n",
            "models/gemini-1.0-pro-001\n",
            "models/gemini-1.0-pro-latest\n",
            "models/gemini-1.0-pro-vision-latest\n",
            "models/gemini-1.5-pro-latest\n",
            "models/gemini-pro\n",
            "models/gemini-pro-vision\n"
          ]
        }
      ]
    },
    {
      "cell_type": "markdown",
      "source": [
        "Definindo a temperatura\n",
        "* quanto maior mais criativo\n",
        "* quanto menor mais \"Instavél\" modelo mais fiel\n",
        "\n",
        "* Meio termo é menor para deixar em teste"
      ],
      "metadata": {
        "id": "whIcIjJKKL5t"
      }
    },
    {
      "cell_type": "code",
      "source": [
        "generation_config = {\n",
        "    \"candidate_count\": 1,\n",
        "    \"temperature\": 0.5\n",
        "}"
      ],
      "metadata": {
        "id": "GsgEUBmCKeWm"
      },
      "execution_count": 4,
      "outputs": []
    },
    {
      "cell_type": "markdown",
      "source": [
        "Config de segurança\n"
      ],
      "metadata": {
        "id": "FoRtsd7_K2lN"
      }
    },
    {
      "cell_type": "code",
      "source": [
        "safety_settings = {\n",
        "    \"HARASSMENT\": \"BLOCK_NONE\",\n",
        "    \"HATE\": \"BLOCK_NONE\",\n",
        "    \"SEXUAL\": \"BLOCK_NONE\",\n",
        "    \"DANGEROUS\": \"BLOCK_NONE\"\n",
        "}"
      ],
      "metadata": {
        "id": "deso3FOFK66G"
      },
      "execution_count": 5,
      "outputs": []
    },
    {
      "cell_type": "markdown",
      "source": [
        "Iniciando o modelo"
      ],
      "metadata": {
        "id": "IB_TA0r9L_pi"
      }
    },
    {
      "cell_type": "code",
      "source": [
        "model = genai.GenerativeModel(model_name=\"gemini-1.0-pro\",\n",
        "                              generation_config=generation_config,\n",
        "                              safety_settings=safety_settings\n",
        "                              )"
      ],
      "metadata": {
        "id": "rxZLCEUQMBYk"
      },
      "execution_count": 6,
      "outputs": []
    },
    {
      "cell_type": "markdown",
      "source": [
        "Criando o resposne"
      ],
      "metadata": {
        "id": "NA3HihHeMrHK"
      }
    },
    {
      "cell_type": "code",
      "source": [
        "response = model.generate_content(\"Qual cenário do nodejs hoje com a evolução da AI?\")\n",
        "print(response.text)"
      ],
      "metadata": {
        "colab": {
          "base_uri": "https://localhost:8080/",
          "height": 523
        },
        "id": "YDsUhEcnMty-",
        "outputId": "e2afcf20-55db-414e-dcb6-84fd53444295"
      },
      "execution_count": 12,
      "outputs": [
        {
          "output_type": "stream",
          "name": "stdout",
          "text": [
            "**O cenário do Node.js na era da IA**\n",
            "\n",
            "O Node.js, um ambiente de execução de JavaScript do lado do servidor, está desempenhando um papel significativo no cenário da Inteligência Artificial (IA). Aqui está um resumo da evolução e do cenário atual do Node.js em relação à IA:\n",
            "\n",
            "**Evolução:**\n",
            "\n",
            "* **2015:** O TensorFlow.js, uma biblioteca de IA do Google, foi lançada, permitindo que os desenvolvedores do Node.js criassem e treinassem modelos de IA.\n",
            "* **2017:** O Node.js foi usado para desenvolver o IBM Watson Assistant, um chatbot de IA alimentado pelo IBM Watson.\n",
            "* **2019:** O Node.js tornou-se uma plataforma popular para o desenvolvimento de aplicativos de processamento de linguagem natural (PNL).\n",
            "\n",
            "**Cenário atual:**\n",
            "\n",
            "* **Modelagem e treinamento de IA:** O Node.js é amplamente usado para modelar e treinar modelos de IA usando bibliotecas como TensorFlow.js, Keras.js e PyTorch.js.\n",
            "* **Inferência de IA:** O Node.js é adequado para inferência de IA, onde modelos treinados são usados para fazer previsões ou tomar decisões.\n",
            "* **Processamento de linguagem natural:** O Node.js é uma escolha popular para aplicativos de PNL, como processamento de texto, análise de sentimento e geração de linguagem.\n",
            "* **Visão computacional:** O Node.js é usado para desenvolver aplicativos de visão computacional, como reconhecimento de imagem, detecção de objetos e processamento de vídeo.\n",
            "* **Chatbots e assistentes virtuais:** O Node.js é uma plataforma comum para criar chatbots e assistentes virtuais alimentados por IA.\n",
            "\n",
            "**Vantagens do Node.js para IA:**\n",
            "\n",
            "* **JavaScript:** O Node.js é baseado em JavaScript, uma linguagem amplamente usada com uma comunidade ativa.\n",
            "* **Assíncrono e orientado a eventos:** O modelo assíncrono do Node.js é adequado para processamento de dados em tempo real e treinamento de IA.\n",
            "* **Grande ecossistema:** O Node.js possui um vasto ecossistema de bibliotecas e ferramentas de IA.\n",
            "* **Escalabilidade:** O Node.js é altamente escalável, permitindo que os aplicativos de IA lidem com grandes volumes de dados.\n",
            "\n",
            "**Conclusão:**\n",
            "\n",
            "O Node.js continua a desempenhar um papel vital no cenário da IA. Sua versatilidade, comunidade ativa e ecossistema abrangente o tornam uma plataforma ideal para desenvolver e implantar aplicativos de IA em vários domínios. À medida que a IA continua a evoluir, espera-se que o Node.js permaneça um ator importante na inovação de IA.\n"
          ]
        }
      ]
    },
    {
      "cell_type": "markdown",
      "source": [
        "Criando um chatbot\n",
        "\n",
        "* chat.history = exibe o histórico"
      ],
      "metadata": {
        "id": "JjS18AeVNNVZ"
      }
    },
    {
      "cell_type": "code",
      "source": [
        "chat = model.start_chat(history=[])"
      ],
      "metadata": {
        "id": "CcCaU7BfNOVv"
      },
      "execution_count": 8,
      "outputs": []
    },
    {
      "cell_type": "code",
      "source": [
        "prompt = input(\"Esperando prompt: \")\n",
        "\n",
        "while prompt != \"fim\":\n",
        "  response = chat.send_message(prompt)\n",
        "  print(\"Resposta: \", response.text, \"\\n\")\n",
        "  prompt = input(\"Esperando prompt: \")"
      ],
      "metadata": {
        "colab": {
          "base_uri": "https://localhost:8080/",
          "height": 86
        },
        "collapsed": true,
        "id": "f8mAQesENjD2",
        "outputId": "756eb6d6-7069-465e-a1b3-94340b750870"
      },
      "execution_count": 9,
      "outputs": [
        {
          "name": "stdout",
          "output_type": "stream",
          "text": [
            "Esperando prompt: Qual capital do Japão?\n",
            "Resposta:  Tóquio \n",
            "\n",
            "Esperando prompt: fim\n"
          ]
        }
      ]
    },
    {
      "cell_type": "markdown",
      "source": [
        "Melhorando a Visualização do chat"
      ],
      "metadata": {
        "id": "Xdu5FR48SHgc"
      }
    },
    {
      "cell_type": "code",
      "source": [
        "#Código disponível em https://ai.google.dev/tutorials/python_quickstart#import_packages\n",
        "import textwrap\n",
        "from IPython.display import display\n",
        "from IPython.display import Markdown\n",
        "\n",
        "def to_markdown(text):\n",
        "  text = text.replace('•', '  *')\n",
        "  return Markdown(textwrap.indent(text, '> ', predicate=lambda _: True))\n",
        "\n",
        "#Imprimindo o histórico\n",
        "for message in chat.history:\n",
        "  display(to_markdown(f'**{message.role}**: {message.parts[0].text}'))\n",
        "  print('-------------------------------------------')"
      ],
      "metadata": {
        "colab": {
          "base_uri": "https://localhost:8080/",
          "height": 142
        },
        "id": "Lw84gulPSKCv",
        "outputId": "a241136a-25f1-4063-a82d-2a81e97b506f"
      },
      "execution_count": 10,
      "outputs": [
        {
          "output_type": "display_data",
          "data": {
            "text/plain": [
              "<IPython.core.display.Markdown object>"
            ],
            "text/markdown": "> **user**: Qual capital do Japão?"
          },
          "metadata": {}
        },
        {
          "output_type": "stream",
          "name": "stdout",
          "text": [
            "-------------------------------------------\n"
          ]
        },
        {
          "output_type": "display_data",
          "data": {
            "text/plain": [
              "<IPython.core.display.Markdown object>"
            ],
            "text/markdown": "> **model**: Tóquio"
          },
          "metadata": {}
        },
        {
          "output_type": "stream",
          "name": "stdout",
          "text": [
            "-------------------------------------------\n"
          ]
        }
      ]
    }
  ]
}